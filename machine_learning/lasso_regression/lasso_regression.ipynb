{
 "cells": [
  {
   "cell_type": "code",
   "execution_count": 1,
   "metadata": {},
   "outputs": [],
   "source": [
    "renaming = {\n",
    "    'čas do SP': 't_sp',\n",
    "    'čas od SP do DN': 't_sp_dn',\n",
    "    'čas od SP do konca': 't_sp_end',\n",
    "    'čas od začetka do DN': 't_start_dn',\n",
    "    'čas od DN do konca': 't_dn_end',\n",
    "    'razlika med BP pri SP in BP pri DN': 'bpsp_bpdn_diff',\n",
    "    'razlika med BP pri DN in diastolnim pritiskom': 'bpdn_d_diff',\n",
    "    'vrednost BP pri SP': 'bpsp',\n",
    "    'vrednost BP pri DN': 'bpdn',\n",
    "    'razmerje med tlakom pri DN in PP': 'bpdn_pp_ratio',\n",
    "    'razmerje med razliko tlaka pri SP in DN in PP': 'bpsp_bpdn_diff_pp_ratio',\n",
    "    'povprečje vala': 'mean_bp',\n",
    "    'povprečje diastolnega dela vala': 'mean_dn_end',\n",
    "    'povprečje sistolnega dviga': 'mean_start_sp',\n",
    "    'popvrečje sistolnega padca': 'mean_sp_dn',\n",
    "    'povprečje vala kjer se val spušča': 'mean_sp_end',\n",
    "    'povprečje vala kjer odštejemo diastolni tlak': 'mean_bp_wo_d',\n",
    "    'povprečje diastolnega dela vala kjer odštejemo diastolni tlak': 'mean_dn_end_wo_d',\n",
    "    'povprečje sistolnega dviga kjer odštejemo diastolni tlak': 'mean_start_sp_wo_d',\n",
    "    'popvrečje sistolnega padca kjer odštejemo diastolni tlak': 'mean_sp_dn_wo_d',\n",
    "    'povprečje vala kjer se val spušča kjer odštejemo diastolni tlak': 'mean_sp_end_wo_d',\n",
    "    'PP': 'pp',\n",
    "    'SBP': 'sbp',\n",
    "    'DBP': 'dbp',\n",
    "    'MAP': 'map',\n",
    "    'površina pod celim valom': 'area',\n",
    "    'površina pod sistolnim delom vala': 'area_start_sp',\n",
    "    'površina pod valom med SP in DN': 'area_sp_dn',\n",
    "    'površina pod diastolnim delom vala': 'area_dn_end',\n",
    "    'površina pod valom kjer se val spušča': 'area_sp_end',\n",
    "    'površina pod valom kjer odštejemo diastolni tlak': 'area_wo_d',\n",
    "    'površina pod sistolnim delom vala kjer odštejemo diastolni tlak': 'area_start_sp_wo_d',\n",
    "    'površina pod valom med SP in DN kjer odštejemo diastolni tlak': 'area_sp_dn_wo_d',\n",
    "    'površina pod diastolnim delom vala kjer odštejemo diastolni tlak': 'area_dn_end_wo_d',\n",
    "    'površina pod valom kjer se val spušča kjer odštejemo diastolni tlak': 'area_sp_end_wo_d',\n",
    "    'maksimalni naklon': 'max_slope',\n",
    "    'maksimalna vrednost drugega odvoda': 'max_2nd_derivative',\n",
    "    'PP / čas do SP': 'pp_t_sp_ratio',\n",
    "    '(BP pri DN - BP pri SP) / čas od SP do DN': 'bpsp_bpdn_t_sp_dn_ratio',\n",
    "    'diastolni tlak - tlak pri DN / čas od DN do konca': 'd_bpdn_t_dn_end_ratio',\n",
    "    'standardna deviacija tlaka': 'std_bp',\n",
    "    'standardna deviacija tlaka z odštetim diastolnim tlakom': 'std_bp_wo_d',\n",
    "    'skeweness (tretji moment) tlaka': 'skewness_bp',\n",
    "    'skeweness (tretji moment) tlaka z odštetim diastolnim tlakom': 'skewness_bp_wo_d',\n",
    "    'kurtosis (četrti moment) tlaka': 'kurtois_bp',\n",
    "    'kurtosis (četrti moment) tlaka z odštetim diastolnim tlakom': 'kurtosis_bp_wo_d',\n",
    "    'SV': 'sv',\n",
    "    'CO': 'co'\n",
    "}"
   ]
  },
  {
   "cell_type": "code",
   "execution_count": 4,
   "metadata": {},
   "outputs": [
    {
     "name": "stdout",
     "output_type": "stream",
     "text": [
      "13576\n",
      "13576\n"
     ]
    }
   ],
   "source": [
    "from lasso_regression import *"
   ]
  },
  {
   "cell_type": "markdown",
   "metadata": {},
   "source": [
    "# L1 regularizirana regresija"
   ]
  },
  {
   "cell_type": "code",
   "execution_count": 5,
   "metadata": {},
   "outputs": [
    {
     "name": "stdout",
     "output_type": "stream",
     "text": [
      "13576\n",
      "13576\n"
     ]
    }
   ],
   "source": [
    "X, C, R, S, feature_names = load_new_data()"
   ]
  },
  {
   "cell_type": "code",
   "execution_count": 6,
   "metadata": {},
   "outputs": [],
   "source": [
    "alphas = np.logspace(-3, 0.6, 50).tolist()"
   ]
  },
  {
   "cell_type": "code",
   "execution_count": 7,
   "metadata": {},
   "outputs": [],
   "source": [
    "splits = split_dataset(X, C, R, S, mode='cv', k=10)"
   ]
  },
  {
   "cell_type": "code",
   "execution_count": null,
   "metadata": {},
   "outputs": [],
   "source": [
    "all_results_C, all_results_R, all_results_S = compute_results(splits, alphas, feature_names)"
   ]
  },
  {
   "cell_type": "code",
   "execution_count": null,
   "metadata": {},
   "outputs": [],
   "source": [
    "# shranimo rezultate v mapico lasso_plots\n",
    "make_plots_from_results(alphas, all_results_C, all_results_R, all_results_S,  feature_names, top_n=None, renaming=renaming)"
   ]
  }
 ],
 "metadata": {
  "kernelspec": {
   "display_name": "Python 3",
   "language": "python",
   "name": "python3"
  },
  "language_info": {
   "codemirror_mode": {
    "name": "ipython",
    "version": 3
   },
   "file_extension": ".py",
   "mimetype": "text/x-python",
   "name": "python",
   "nbconvert_exporter": "python",
   "pygments_lexer": "ipython3",
   "version": "3.10.4"
  }
 },
 "nbformat": 4,
 "nbformat_minor": 2
}
